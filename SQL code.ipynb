{
 "cells": [
  {
   "cell_type": "markdown",
   "source": [
    "No code is being run in this script, this is here to store SQL commands that I executed outside the python script in the database console"
   ],
   "metadata": {
    "collapsed": false
   },
   "id": "7e16a7e569f274aa"
  },
  {
   "cell_type": "code",
   "execution_count": null,
   "outputs": [],
   "source": [
    "%load_ext sql\n",
    "%sql sqlite:///MKU_digital_assignment.db"
   ],
   "metadata": {
    "collapsed": false
   },
   "id": "3072b98bab288df4"
  },
  {
   "cell_type": "markdown",
   "source": [
    "# SQL code for creating table"
   ],
   "metadata": {
    "collapsed": false
   },
   "id": "45782fbd2c571b27"
  },
  {
   "cell_type": "code",
   "execution_count": null,
   "outputs": [],
   "source": [
    "%%sql\n",
    "create table Category(\n",
    "    CategoryID INTEGER PRIMARY KEY,\n",
    "    CategoryName varchar(50),\n",
    "    CategoryBudget real\n",
    ");\n",
    "\n",
    "create table Spending(\n",
    "    TransactionID INTEGER PRIMARY KEY,\n",
    "    CategoryID int,\n",
    "    Amount MONEY,\n",
    "    Date varchar(10),\n",
    "    FOREIGN KEY (CategoryID) REFERENCES Category(CategoryID)\n",
    ");\n"
   ],
   "metadata": {
    "collapsed": false
   },
   "id": "f7ae522d02ac7335"
  },
  {
   "cell_type": "code",
   "execution_count": null,
   "outputs": [],
   "source": [
    "%%sql\n",
    "Insert Into Category (CategoryName, CategoryBudget)\n",
    "VALUES\n",
    "(\"Eating out\", 100),\n",
    "(\"Bills\", 300),\n",
    "(\"Other\", 50)\n",
    "\n",
    "Insert Into Spending (CategoryID, Amount, Date)\n",
    "VALUES\n",
    "(3, 40, '2025-05-13'),\n",
    "(4, 237, '2025-05-14'),\n",
    "(2, 12, '2025-05-14'),\n",
    "(2, 21, '2025-05-16'),\n",
    "(1, 58, '2025-05-19'),\n",
    "(5, 6, '2025-05-17')\n",
    "\n",
    "insert into spending(CategoryID, Amount, Date) values (1, 23, '2025-05-18')"
   ],
   "metadata": {
    "collapsed": false
   },
   "id": "e4003c8232fb755b"
  },
  {
   "cell_type": "markdown",
   "source": [
    "This is SQL code that was used to create the relational database\n",
    "- Using a database means fetching data is more efficient, easier and means I can use the normalisation process to better structure data\n",
    "- By using an integer value the ID column can autoincrement\n"
   ],
   "metadata": {
    "collapsed": false
   },
   "id": "93388ab8e92d0863"
  },
  {
   "cell_type": "markdown",
   "source": [
    "Idea for later with how the GUI could interact with the database\n",
    "https://www.youtube.com/watch?v=HSyERXCiAtI"
   ],
   "metadata": {
    "collapsed": false
   },
   "id": "977ee170d23d936e"
  }
 ],
 "metadata": {
  "kernelspec": {
   "display_name": "Python 3",
   "language": "python",
   "name": "python3"
  },
  "language_info": {
   "codemirror_mode": {
    "name": "ipython",
    "version": 2
   },
   "file_extension": ".py",
   "mimetype": "text/x-python",
   "name": "python",
   "nbconvert_exporter": "python",
   "pygments_lexer": "ipython2",
   "version": "2.7.6"
  }
 },
 "nbformat": 4,
 "nbformat_minor": 5
}
