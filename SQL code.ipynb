{
 "cells": [
  {
   "cell_type": "markdown",
   "source": [
    "No code is being run in this script, this is here to store SQL commands that I executed outside the python script in the database console"
   ],
   "metadata": {
    "collapsed": false
   },
   "id": "7e16a7e569f274aa"
  },
  {
   "cell_type": "code",
   "execution_count": null,
   "outputs": [],
   "source": [
    "%load_ext sql\n",
    "%sql sqlite:///MKU_digital_assignment.db"
   ],
   "metadata": {
    "collapsed": false
   },
   "id": "3072b98bab288df4"
  },
  {
   "cell_type": "markdown",
   "source": [
    "# SQL code for creating table"
   ],
   "metadata": {
    "collapsed": false
   },
   "id": "45782fbd2c571b27"
  },
  {
   "cell_type": "code",
   "execution_count": null,
   "outputs": [],
   "source": [
    "%%sql\n",
    "create table Category(\n",
    "    CategoryID INTEGER PRIMARY KEY,\n",
    "    CategoryName varchar(50),\n",
    "    CategoryBudget real\n",
    ");\n",
    "\n",
    "create table Spending(\n",
    "    TransactionID INTEGER PRIMARY KEY,\n",
    "    CategoryID int,\n",
    "    Amount MONEY,\n",
    "    Date varchar(10),\n",
    "    FOREIGN KEY (CategoryID) REFERENCES Category(CategoryID)\n",
    ");\n",
    "\n"
   ],
   "metadata": {
    "collapsed": false
   },
   "id": "f7ae522d02ac7335"
  },
  {
   "cell_type": "markdown",
   "source": [
    "This is SQL code that was used to create the relational database\n",
    "- Using a database means fetching data is more efficient, easier and means I can use the normalisation process to better structure data\n",
    "- By using an integer value the ID column can autoincrement"
   ],
   "metadata": {
    "collapsed": false
   },
   "id": "93388ab8e92d0863"
  }
 ],
 "metadata": {
  "kernelspec": {
   "display_name": "Python 3",
   "language": "python",
   "name": "python3"
  },
  "language_info": {
   "codemirror_mode": {
    "name": "ipython",
    "version": 2
   },
   "file_extension": ".py",
   "mimetype": "text/x-python",
   "name": "python",
   "nbconvert_exporter": "python",
   "pygments_lexer": "ipython2",
   "version": "2.7.6"
  }
 },
 "nbformat": 4,
 "nbformat_minor": 5
}
