{
 "cells": [
  {
   "cell_type": "raw",
   "source": [
    "create table Category(\n",
    "    CategoryID INTEGER PRIMARY KEY,\n",
    "    CategoryName varchar(50),\n",
    "    CategoryBudget real\n",
    ");\n",
    "\n",
    "create table Spending(\n",
    "    TransactionID INTEGER PRIMARY KEY,\n",
    "    CategoryID int,\n",
    "    Amount MONEY,\n",
    "    Date varchar(10),\n",
    "    FOREIGN KEY (CategoryID) REFERENCES Category(CategoryID)\n",
    ");\n",
    "\n",
    "This is SQL code that was used to create the relational database\n",
    "- Using a database means fetching data is more efficient, easier and means I can use the normalisation process to better structure data"
   ],
   "metadata": {
    "collapsed": false
   },
   "id": "65b6b881c9b8be3e"
  }
 ],
 "metadata": {
  "kernelspec": {
   "display_name": "Python 3",
   "language": "python",
   "name": "python3"
  },
  "language_info": {
   "codemirror_mode": {
    "name": "ipython",
    "version": 2
   },
   "file_extension": ".py",
   "mimetype": "text/x-python",
   "name": "python",
   "nbconvert_exporter": "python",
   "pygments_lexer": "ipython2",
   "version": "2.7.6"
  }
 },
 "nbformat": 4,
 "nbformat_minor": 5
}
